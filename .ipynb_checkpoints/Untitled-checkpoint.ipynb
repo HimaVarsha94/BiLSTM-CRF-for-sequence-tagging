{
 "cells": [
  {
   "cell_type": "code",
   "execution_count": 1,
   "metadata": {},
   "outputs": [],
   "source": [
    "import pickle\n",
    "import numpy"
   ]
  },
  {
   "cell_type": "code",
   "execution_count": 2,
   "metadata": {},
   "outputs": [],
   "source": [
    "with open('./data/duolingo/procd_es_en_train_allfeats_lowered.pkl', 'rb') as f:\n",
    "    train_data = pickle.load(f)\n",
    "\n",
    "with open('./data/duolingo/procd_es_en_dev_allfeats_lowered.pkl', 'rb') as f:\n",
    "    dev_data = pickle.load(f)\n",
    "\n",
    "with open('./data/duolingo/procd_es_en_train_labels.pkl', 'rb') as f:\n",
    "    train_labels = pickle.load(f)\n",
    "\n",
    "with open('./data/duolingo/procd_es_en_dev_labels.pkl', 'rb') as f:\n",
    "    dev_labels = pickle.load(f)\n",
    "\n",
    "with open('./data/duolingo/procd_es_en_train_seq_feats.pkl', 'rb') as f:\n",
    "    train_feats = pickle.load(f)\n",
    "\n",
    "with open('./data/duolingo/procd_es_en_dev_seq_feats.pkl', 'rb') as f:\n",
    "    dev_feats = pickle.load(f)"
   ]
  },
  {
   "cell_type": "code",
   "execution_count": 3,
   "metadata": {},
   "outputs": [
    {
     "name": "stdout",
     "output_type": "stream",
     "text": [
      "<class 'list'>\n",
      "<class 'list'>\n",
      "<class 'collections.defaultdict'>\n"
     ]
    }
   ],
   "source": [
    "print(type(train_data))\n",
    "print(type(train_labels))\n",
    "print(type(train_feats))"
   ]
  },
  {
   "cell_type": "code",
   "execution_count": 4,
   "metadata": {},
   "outputs": [
    {
     "name": "stdout",
     "output_type": "stream",
     "text": [
      "{'words': [1, 28], 'pos': [2, 1], 'edge_labels': [2, 1], 'edge_heads': [2, 1], 'chars': [[2, 5], [13, 3, 6]]}\n",
      "[0, 0]\n",
      "68\n"
     ]
    }
   ],
   "source": [
    "print(train_data[0])\n",
    "print(train_labels[0])\n",
    "print(train_feats['countries'][0])"
   ]
  },
  {
   "cell_type": "code",
   "execution_count": 5,
   "metadata": {},
   "outputs": [
    {
     "ename": "UnsupportedOperation",
     "evalue": "write",
     "output_type": "error",
     "traceback": [
      "\u001b[0;31m---------------------------------------------------------------------------\u001b[0m",
      "\u001b[0;31mUnsupportedOperation\u001b[0m                      Traceback (most recent call last)",
      "\u001b[0;32m<ipython-input-5-fed83d4eba74>\u001b[0m in \u001b[0;36m<module>\u001b[0;34m()\u001b[0m\n\u001b[1;32m     20\u001b[0m \u001b[0;34m\u001b[0m\u001b[0m\n\u001b[1;32m     21\u001b[0m \u001b[0;32mwith\u001b[0m \u001b[0mopen\u001b[0m\u001b[0;34m(\u001b[0m\u001b[0;34m'./data/duolingo/procd_es_en_train_allfeats_lowered.pkl'\u001b[0m\u001b[0;34m,\u001b[0m \u001b[0;34m'rb'\u001b[0m\u001b[0;34m)\u001b[0m \u001b[0;32mas\u001b[0m \u001b[0mf\u001b[0m\u001b[0;34m:\u001b[0m\u001b[0;34m\u001b[0m\u001b[0m\n\u001b[0;32m---> 22\u001b[0;31m     \u001b[0mtrain_data\u001b[0m \u001b[0;34m=\u001b[0m \u001b[0mpickle\u001b[0m\u001b[0;34m.\u001b[0m\u001b[0mdump\u001b[0m\u001b[0;34m(\u001b[0m\u001b[0mtrain_data\u001b[0m\u001b[0;34m,\u001b[0m\u001b[0mf\u001b[0m\u001b[0;34m)\u001b[0m\u001b[0;34m\u001b[0m\u001b[0m\n\u001b[0m\u001b[1;32m     23\u001b[0m \u001b[0;34m\u001b[0m\u001b[0m\n\u001b[1;32m     24\u001b[0m \u001b[0;32mwith\u001b[0m \u001b[0mopen\u001b[0m\u001b[0;34m(\u001b[0m\u001b[0;34m'./data/duolingo/procd_es_en_dev_allfeats_lowered.pkl'\u001b[0m\u001b[0;34m,\u001b[0m \u001b[0;34m'rb'\u001b[0m\u001b[0;34m)\u001b[0m \u001b[0;32mas\u001b[0m \u001b[0mf\u001b[0m\u001b[0;34m:\u001b[0m\u001b[0;34m\u001b[0m\u001b[0m\n",
      "\u001b[0;31mUnsupportedOperation\u001b[0m: write"
     ]
    }
   ],
   "source": [
    "train_order = []\n",
    "for data in train_data:\n",
    "    train_order.append(len(data['words']))\n",
    "\n",
    "dev_order = []\n",
    "for data in dev_data:\n",
    "    dev_order.append(len(data['words']))\n",
    "\n",
    "## get order of indices after sorting\n",
    "sorted_train_inds = numpy.argsort(train_order)\n",
    "sorted_dev_inds = numpy.argsort(dev_order)\n",
    "\n",
    "## now use those indices to sort all datw\n",
    "train_data = [train_data[i] for i in sorted_train_inds]\n",
    "dev_data = [dev_data[i] for i in sorted_dev_inds]\n",
    "train_labels = [train_labels[i] for i in sorted_train_inds]\n",
    "dev_labels = [dev_labels[i] for i in sorted_dev_inds]\n",
    "train_feats = [train_feats[i] for i in sorted_train_inds]\n",
    "dev_feats = [dev_feats[i] for i in sorted_dev_inds]\n",
    "\n",
    "with open('./data/duolingo/procd_es_en_train_allfeats_lowered.pkl', 'wb') as f:\n",
    "    train_data = pickle.dump(train_data,f)\n",
    "\n",
    "with open('./data/duolingo/procd_es_en_dev_allfeats_lowered.pkl', 'wb') as f:\n",
    "    dev_data = pickle.dump(dev_data,f)\n",
    "\n",
    "with open('./data/duolingo/procd_es_en_train_labels.pkl', 'wb') as f:\n",
    "    train_labels = pickle.dump(train_labels,f)\n",
    "\n",
    "with open('./data/duolingo/procd_es_en_dev_labels.pkl', 'wb') as f:\n",
    "    dev_labels = pickle.dump(dev_labels,f)\n",
    "\n",
    "with open('./data/duolingo/procd_es_en_train_seq_feats.pkl', 'wb') as f:\n",
    "    train_feats = pickle.dump(train_feats,f)\n",
    "\n",
    "with open('./data/duolingo/procd_es_en_dev_seq_feats.pkl', 'wb') as f:\n",
    "    dev_feats = pickle.dump(dev_feats,f)"
   ]
  },
  {
   "cell_type": "code",
   "execution_count": null,
   "metadata": {},
   "outputs": [],
   "source": [
    "sorted_inds = numpy.argsort([5,4,1,2,3])\n",
    "print(sorted_inds)\n",
    "print(type(sorted_inds))\n",
    "d = [1,2,3,4,5]\n",
    "d = [1,2,3,4,5]\n",
    "d[sorted_inds.tolist()]"
   ]
  },
  {
   "cell_type": "code",
   "execution_count": null,
   "metadata": {},
   "outputs": [],
   "source": []
  }
 ],
 "metadata": {
  "kernelspec": {
   "display_name": "Python 3",
   "language": "python",
   "name": "python3"
  },
  "language_info": {
   "codemirror_mode": {
    "name": "ipython",
    "version": 3
   },
   "file_extension": ".py",
   "mimetype": "text/x-python",
   "name": "python",
   "nbconvert_exporter": "python",
   "pygments_lexer": "ipython3",
   "version": "3.6.4"
  }
 },
 "nbformat": 4,
 "nbformat_minor": 2
}
